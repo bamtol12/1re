{
 "cells": [
  {
   "cell_type": "markdown",
   "id": "0263ebf6",
   "metadata": {},
   "source": [
    "#2022-2023 DM2 \n",
    "##Seonu Jeon Tle\n",
    "---------------------"
   ]
  },
  {
   "cell_type": "markdown",
   "id": "72344a71",
   "metadata": {},
   "source": [
    "###Exercice 1\n",
    "$\n",
    "V(X) = E(X^2) + E(X)^2\n",
    "$\n",
    "임을 증명하라."
   ]
  },
  {
   "cell_type": "markdown",
   "id": "d671c015",
   "metadata": {},
   "source": [
    "$\n",
    "\\displaystyle\n",
    "E(X)={1\\over n}\\sum_{i=1}^n x_i \\\\\n",
    "\\begin{align}V(X)&={1\\over n}\\sum_{i=1}^n (x_i-E(X))^2\\\\\n",
    "&={1\\over n}\\sum_{i=1}^n (x_i^2-2E(X)x_i-E(X)^2)\\\\\n",
    "&={1\\over n}\\sum_{i=1}^n x_i^2 -2E(X){1\\over n}\\sum_{i=1}^n x_i + {1\\over n}\\cdot nE(X)^2\\\\\n",
    "&={1\\over n}\\sum_{i=1}^n x_i^2 -2E(X)^2 + E(X)^2\\\\\n",
    "&={1\\over n}\\sum_{i=1}^n x_i^2 -E(X)^2\\\\\n",
    "&=E(X^2) -E(X)^2\n",
    "\\end{align}\n",
    "$"
   ]
  },
  {
   "cell_type": "markdown",
   "id": "c04ff3f1",
   "metadata": {},
   "source": [
    "###Exercice 2\n",
    "주사위를 던져 6을 얻는 것을 성공이라고 한다. 적어도 3번 6이 나올 확률이 95% 이상이 되게 하기 위해서 주사위를 몇번 던져야하는가?"
   ]
  },
  {
   "cell_type": "markdown",
   "id": "38590a39",
   "metadata": {},
   "source": [
    "$\n",
    "P(X\\ge 3) \\ge 0.95 \\\\\n",
    "1-P(X<3) \\ge 0.95 \\\\\n",
    "1-P(X\\le 2) \\ge 0.95 \\\\\n",
    "-P(X\\le 2) \\ge -0.05 \\\\\n",
    "P(X\\le 2) \\le 0.05\\\\\n",
    "$\n",
    "$\n",
    "\\\\\n",
    "X=36 \\\\\n",
    "f(X)\\approx 0.0471\n",
    "$"
   ]
  },
  {
   "cell_type": "markdown",
   "id": "70e2c23e",
   "metadata": {},
   "source": [
    "###Exercice 3\n",
    "주사위를 $n_0$번 던져 위의 상황을 시험하는 프로그램을 만들어라. 100000번 시험하여 성공 확률이 95%가 넘는지 확인하라."
   ]
  },
  {
   "cell_type": "code",
   "execution_count": 1,
   "id": "465fded0",
   "metadata": {
    "scrolled": true
   },
   "outputs": [
    {
     "name": "stdout",
     "output_type": "stream",
     "text": [
      "95.355\n"
     ]
    }
   ],
   "source": [
    "from random import randint\n",
    "n_0 = 100000\n",
    "res=0\n",
    "for i in range(n_0):\n",
    "    x=0\n",
    "    for n in range(36):\n",
    "        de = randint(1,6)\n",
    "        if de == 6:\n",
    "            x += 1\n",
    "    if x >= 3:\n",
    "        res += 1\n",
    "ans=(res/n_0)*100\n",
    "print (ans)"
   ]
  }
 ],
 "metadata": {
  "kernelspec": {
   "display_name": "Python 3 (ipykernel)",
   "language": "python",
   "name": "python3"
  },
  "language_info": {
   "codemirror_mode": {
    "name": "ipython",
    "version": 3
   },
   "file_extension": ".py",
   "mimetype": "text/x-python",
   "name": "python",
   "nbconvert_exporter": "python",
   "pygments_lexer": "ipython3",
   "version": "3.7.3"
  }
 },
 "nbformat": 4,
 "nbformat_minor": 5
}
